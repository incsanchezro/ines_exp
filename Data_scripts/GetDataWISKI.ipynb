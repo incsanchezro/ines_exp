{
 "cells": [
  {
   "cell_type": "code",
   "execution_count": 1,
   "metadata": {},
   "outputs": [],
   "source": [
    "from matplotlib import pyplot as pl\n",
    "import WiskiTools as wt\n",
    "import saveload as sl\n",
    "import numpy as np"
   ]
  },
  {
   "cell_type": "code",
   "execution_count": 15,
   "metadata": {},
   "outputs": [
    {
     "name": "stdout",
     "output_type": "stream",
     "text": [
      "http://giws.usask.ca:8080/KiWIS/KiWIS?service=kisters&type=queryServices&request=getStationList&datasource=0&format=ascii\n",
      "0 \t BERMS Piezometers\n",
      "1 \t Brightwater Creek Piezometers\n"
     ]
    }
   ],
   "source": [
    "# Search for a station, and output station names:\n",
    "MyList=wt.searchStation('Piezo') #Old Jack Pine\n",
    "#MyList=wt.searchStation('FEN') #Fen\n",
    "#MyList=wt.searchStation('SD') #St. Dennis\n",
    "# MyList=wt.searchStation('BWC') #BWC"
   ]
  },
  {
   "cell_type": "code",
   "execution_count": 16,
   "metadata": {},
   "outputs": [
    {
     "name": "stdout",
     "output_type": "stream",
     "text": [
      "BERMS Piezometers\n"
     ]
    }
   ],
   "source": [
    "# Select one station from the list, by number:\n",
    "station_name=MyList[0]\n",
    "print(station_name)"
   ]
  },
  {
   "cell_type": "code",
   "execution_count": 17,
   "metadata": {},
   "outputs": [
    {
     "name": "stdout",
     "output_type": "stream",
     "text": [
      "No # \t Timeseries \t Parameter\n",
      "0 \t 109052042 \t BarometricPressure_Fen\n",
      "1 \t 99922042 \t BarometricPressure_OA\n",
      "2 \t 99900042 \t BarometricPressure_OJP\n",
      "3 \t 109062042 \t TotalHead_F1bp021\n",
      "4 \t 109060042 \t TotalHead_F2bp021\n",
      "5 \t 109072042 \t TotalHead_F2bp022\n",
      "6 \t 109074042 \t TotalHead_F3bp021\n",
      "7 \t 109066042 \t TotalHead_FNip022\n",
      "8 \t 109068042 \t TotalHead_FNip024\n",
      "9 \t 109070042 \t TotalHead_FOip031\n",
      "10 \t 109076042 \t TotalHead_FOrp033\n",
      "11 \t 109056042 \t TotalHead_FTbp101\n",
      "12 \t 109064042 \t TotalHead_FTmp041\n",
      "13 \t 109058042 \t TotalHead_FTpp081\n",
      "14 \t 109054042 \t TotalHead_FUpp023\n",
      "15 \t 109050042 \t TotalHead_OA\n",
      "16 \t 109034042 \t TotalHead_PH00\n",
      "17 \t 109036042 \t TotalHead_PH75\n",
      "18 \t 109038042 \t TotalHead_PH94\n",
      "19 \t 109040042 \t TotalHead_POJF\n",
      "20 \t 109042042 \t TotalHead_POJF2\n",
      "21 \t 109044042 \t TotalHead_POJP\n",
      "22 \t 109046042 \t TotalHead_POJR\n",
      "23 \t 109048042 \t TotalHead_POJT\n",
      "24 \t 99456042 \t WaterTableDepth_OBS\n",
      "25 \t 100224042 \t WaterTableElevation_F1bp021\n",
      "26 \t 100070042 \t WaterTableElevation_F2bp021\n",
      "27 \t 100432042 \t WaterTableElevation_F2bp022\n",
      "28 \t 100465042 \t WaterTableElevation_F3bp021\n",
      "29 \t 100268042 \t WaterTableElevation_FNip022\n",
      "30 \t 100290042 \t WaterTableElevation_FNip024\n",
      "31 \t 100334042 \t WaterTableElevation_FOip031\n",
      "32 \t 100487042 \t WaterTableElevation_FOrp033\n",
      "33 \t 100092042 \t WaterTableElevation_FTbp101\n",
      "34 \t 100246042 \t WaterTableElevation_FTmp041\n",
      "35 \t 100114042 \t WaterTableElevation_FTpp081\n",
      "36 \t 100048042 \t WaterTableElevation_FUpp023\n",
      "37 \t 100560042 \t WaterTableElevation_OA\n",
      "38 \t 99779042 \t WaterTableElevation_PH00\n",
      "39 \t 99781042 \t WaterTableElevation_PH75\n",
      "40 \t 99783042 \t WaterTableElevation_PH94\n",
      "41 \t 100534042 \t WaterTableElevation_POJF\n",
      "42 \t 99785042 \t WaterTableElevation_POJP\n",
      "43 \t 100536042 \t WaterTableElevation_POJR\n",
      "44 \t 100562042 \t WaterTableElevation_POJT\n",
      "45 \t 99697042 \t WaterTableLevel_OA\n",
      "46 \t 99719042 \t WaterTableLevel_PH00\n",
      "47 \t 99741042 \t WaterTableLevel_PH75\n",
      "48 \t 99763042 \t WaterTableLevel_PH94\n",
      "49 \t 99793042 \t WaterTableLevel_POJF\n",
      "50 \t 99815042 \t WaterTableLevel_POJF2\n",
      "51 \t 99837042 \t WaterTableLevel_POJP\n",
      "52 \t 99859042 \t WaterTableLevel_POJR\n",
      "53 \t 99881042 \t WaterTableLevel_POJT\n",
      "54 \t 100135042 \t WaterTemp_F1bp021\n",
      "55 \t 100017042 \t WaterTemp_F2bp021\n",
      "56 \t 100365042 \t WaterTemp_F2bp022\n",
      "57 \t 100387042 \t WaterTemp_F3bp021\n",
      "58 \t 100179042 \t WaterTemp_FNip022\n",
      "59 \t 100201042 \t WaterTemp_FNip024\n",
      "60 \t 100311042 \t WaterTemp_FOip031\n",
      "61 \t 100409042 \t WaterTemp_FOrp33\n",
      "62 \t 99971042 \t WaterTemp_FTbp101\n",
      "63 \t 100157042 \t WaterTemp_FTmp041\n",
      "64 \t 99994042 \t WaterTemp_FTpp081\n",
      "65 \t 99948042 \t WaterTemp_FUpp023\n",
      "66 \t 99255042 \t WaterTemp_OA\n",
      "67 \t 99277042 \t WaterTemp_PH00\n",
      "68 \t 99299042 \t WaterTemp_PH75\n",
      "69 \t 99321042 \t WaterTemp_PH94\n",
      "70 \t 99348042 \t WaterTemp_POJF\n",
      "71 \t 99370042 \t WaterTemp_POJF2\n",
      "72 \t 99392042 \t WaterTemp_POJP\n",
      "73 \t 99414042 \t WaterTemp_POJR\n",
      "74 \t 99436042 \t WaterTemp_POJT\n"
     ]
    }
   ],
   "source": [
    "# List all time series associated with this station:\n",
    "MyTS=wt.searchTimeseries('',station_name)"
   ]
  },
  {
   "cell_type": "code",
   "execution_count": 7,
   "metadata": {},
   "outputs": [
    {
     "name": "stdout",
     "output_type": "stream",
     "text": [
      "[70 71]\n",
      "2001-08-01 00:00:00\n",
      "http://giws.usask.ca:8080/KiWIS/KiWIS?service=kisters&type=queryServices&request=getTimeseriesValues&datasource=0&format=ascii&dateformat=yyyy-MM-dd%20HH:mm:ss&timezone=GMT-6&ts_id=55534042&returnfields=Timestamp,Value&from=2001-08-01 00:00:00&to=2060-02-08 00:00:00&\n",
      "SoilVWC_005cm 85627\n",
      "http://giws.usask.ca:8080/KiWIS/KiWIS?service=kisters&type=queryServices&request=getTimeseriesValues&datasource=0&format=ascii&dateformat=yyyy-MM-dd%20HH:mm:ss&timezone=GMT-6&ts_id=55555042&returnfields=Timestamp,Value&from=2001-08-01 00:00:00&to=2060-02-08 00:00:00&\n",
      "SoilVWC_020cm 85627\n"
     ]
    }
   ],
   "source": [
    "# Select one or more times series, by index\n",
    "indexes=np.arange(21,33,2)\n",
    "print(indexes)\n",
    "\n",
    "# Select a data range to work with:\n",
    "Start='2001-08-01 00:00:00'\n",
    "End='2060-02-08 00:00:00'\n",
    "\n",
    "# Extract data into a pandas dataframe:\n",
    "TS_Selection=MyTS[indexes]\n",
    "df = wt.getTimeseries(TS_Selection,station_name,Start,End)"
   ]
  },
  {
   "cell_type": "code",
   "execution_count": 8,
   "metadata": {},
   "outputs": [],
   "source": [
    "import saveload as sl\n",
    "\n"
   ]
  },
  {
   "cell_type": "code",
   "execution_count": 9,
   "metadata": {},
   "outputs": [
    {
     "name": "stdout",
     "output_type": "stream",
     "text": [
      "                     SoilVWC_005cm  SoilVWC_020cm\n",
      "2013-07-05 15:30:00          0.242          0.406\n",
      "2013-07-05 16:00:00          0.243          0.407\n",
      "2013-07-05 16:30:00          0.238          0.407\n",
      "2013-07-05 17:00:00          0.240          0.407\n",
      "2013-07-05 17:30:00          0.239          0.407\n",
      "2013-07-05 18:00:00          0.238          0.405\n",
      "2013-07-05 18:30:00          0.237          0.405\n",
      "2013-07-05 19:00:00          0.239          0.405\n",
      "2013-07-05 19:30:00          0.239          0.405\n",
      "2013-07-05 20:00:00          0.236          0.405\n",
      "2013-07-05 20:30:00          0.237          0.405\n",
      "2013-07-05 21:00:00          0.238          0.405\n",
      "2013-07-05 21:30:00          0.235          0.405\n",
      "2013-07-05 22:00:00          0.236          0.405\n",
      "2013-07-05 22:30:00          0.233          0.407\n",
      "2013-07-05 23:00:00          0.232          0.407\n",
      "2013-07-05 23:30:00          0.236          0.399\n",
      "2013-07-06 00:00:00          0.229          0.407\n",
      "2013-07-06 00:30:00          0.233          0.398\n",
      "2013-07-06 01:00:00          0.233          0.398\n",
      "2013-07-06 01:30:00          0.234          0.398\n",
      "2013-07-06 02:00:00          0.235          0.401\n",
      "2013-07-06 02:30:00          0.231          0.401\n",
      "2013-07-06 03:00:00          0.232          0.401\n",
      "2013-07-06 03:30:00          0.232          0.401\n",
      "2013-07-06 04:00:00          0.229          0.403\n",
      "2013-07-06 04:30:00          0.229          0.403\n",
      "2013-07-06 05:00:00          0.230          0.403\n",
      "2013-07-06 05:30:00          0.230          0.403\n",
      "2013-07-06 06:00:00          0.230          0.397\n",
      "...                            ...            ...\n",
      "2018-05-23 22:00:00          0.118          0.313\n",
      "2018-05-23 22:30:00          0.118          0.316\n",
      "2018-05-23 23:00:00          0.113          0.313\n",
      "2018-05-23 23:30:00          0.113          0.313\n",
      "2018-05-24 00:00:00          0.115          0.313\n",
      "2018-05-24 00:30:00          0.115          0.310\n",
      "2018-05-24 01:00:00          0.115          0.313\n",
      "2018-05-24 01:30:00          0.115          0.313\n",
      "2018-05-24 02:00:00          0.115          0.313\n",
      "2018-05-24 02:30:00          0.117          0.313\n",
      "2018-05-24 03:00:00          0.111          0.313\n",
      "2018-05-24 03:30:00          0.111          0.313\n",
      "2018-05-24 04:00:00          0.111          0.316\n",
      "2018-05-24 04:30:00          0.114          0.313\n",
      "2018-05-24 05:00:00          0.114          0.313\n",
      "2018-05-24 05:30:00          0.114          0.313\n",
      "2018-05-24 06:00:00          0.114          0.313\n",
      "2018-05-24 06:30:00          0.116          0.316\n",
      "2018-05-24 07:00:00          0.110          0.316\n",
      "2018-05-24 07:30:00          0.110          0.316\n",
      "2018-05-24 08:00:00          0.113          0.315\n",
      "2018-05-24 08:30:00          0.110          0.312\n",
      "2018-05-24 09:00:00          0.110          0.318\n",
      "2018-05-24 09:30:00          0.113          0.318\n",
      "2018-05-24 10:00:00          0.113          0.318\n",
      "2018-05-24 10:30:00          0.113          0.318\n",
      "2018-05-24 11:00:00          0.113          0.318\n",
      "2018-05-24 11:30:00          0.113          0.318\n",
      "2018-05-24 12:00:00          0.113          0.318\n",
      "2018-05-24 12:30:00          0.113          0.318\n",
      "\n",
      "[85627 rows x 2 columns]\n"
     ]
    }
   ],
   "source": [
    "sl.save(df,'BWC_Example_soil')\n",
    "print (df)"
   ]
  },
  {
   "cell_type": "code",
   "execution_count": 10,
   "metadata": {
    "scrolled": false
   },
   "outputs": [
    {
     "data": {
      "image/png": "[encoded data removed]",
      "text/plain": [
       "<Figure size 432x288 with 1 Axes>"
      ]
     },
     "metadata": {
      "needs_background": "light"
     },
     "output_type": "display_data"
    },
    {
     "data": {
      "image/png": "[encoded data removed]",
      "text/plain": [
       "<Figure size 432x288 with 1 Axes>"
      ]
     },
     "metadata": {
      "needs_background": "light"
     },
     "output_type": "display_data"
    }
   ],
   "source": [
    "# Plot all the data in your dataframe on individual axes\n",
    "for i in range(df.columns.size):\n",
    "    df.plot(y=df.columns[i])\n",
    "    \n",
    "pl.show()"
   ]
  },
  {
   "cell_type": "code",
   "execution_count": null,
   "metadata": {},
   "outputs": [],
   "source": []
  }
 ],
 "metadata": {
  "kernelspec": {
   "display_name": "Python 3",
   "language": "python",
   "name": "python3"
  },
  "language_info": {
   "codemirror_mode": {
    "name": "ipython",
    "version": 3
   },
   "file_extension": ".py",
   "mimetype": "text/x-python",
   "name": "python",
   "nbconvert_exporter": "python",
   "pygments_lexer": "ipython3",
   "version": "3.7.3"
  }
 },
 "nbformat": 4,
 "nbformat_minor": 1
}
