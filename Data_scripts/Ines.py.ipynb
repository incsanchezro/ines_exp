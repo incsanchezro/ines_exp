{
 "cells": [
  {
   "cell_type": "code",
   "execution_count": 1,
   "metadata": {},
   "outputs": [],
   "source": [
    "#importing libraries\n",
    "import numpy as np\n",
    "import matplotlib.pyplot as plt\n",
    "import saveload as sl\n",
    "import pandas as pd\n",
    "from datetime import datetime, timedelta "
   ]
  },
  {
   "cell_type": "code",
   "execution_count": 2,
   "metadata": {},
   "outputs": [],
   "source": [
    "def GetThawDate(ts,year):\n",
    "    \"\"\"\n",
    "       - objective : \n",
    "       \n",
    "       Take a temperature for a year with temperature greater than or equal to 0 and  indexed in order\n",
    "       \n",
    "       \n",
    "       -Parameters: \n",
    "       The parameter that is used here are the year (year) of the time series data and the time series (ts) of\n",
    "\n",
    "       -Returns:\n",
    "        thawdate(yyyy:mm:dd  hr:mm:ss) is in the form of the year that is returned\n",
    "   \"\"\"\n",
    "    AnnualTemp=ts[str(year)]\n",
    "    Thawed_s=AnnualTemp[AnnualTemp>=0]\n",
    "    Thawed_e=AnnualTemp[AnnualTemp>0.1]\n",
    "    thawdate_start=Thawed_s.index[0]\n",
    "    thawdate_end=Thawed_e.index[0]\n",
    "    return thawdate_start,thawdate_end"
   ]
  },
  {
   "cell_type": "code",
   "execution_count": 3,
   "metadata": {},
   "outputs": [],
   "source": [
    "def ThawStartEndFun(df,year,depth,delay=30):\n",
    "    \"\"\"\n",
    "       - objective : \n",
    "       Calculate the dates for thawing process\n",
    "       \n",
    "       -Parameters: \n",
    "       df: data in format .pkl. use : df=sl.load('/home/ines/Documents/mientras/data/OJP/OJP_NW_T.pkl')\n",
    "       year: in format yyyy\n",
    "       depth:in centimetres. Depth for the measurements. Pick from: 002, 005, 010, 020, 050, 100\n",
    "       delay: (=30) in days. Time to delay to catch the thawing beginnign delay with the depth\n",
    "\n",
    "        -Returns:\n",
    "        x1(mm-dd): Months and days for the Thawing process \n",
    "        \n",
    "   \"\"\"    \n",
    "    \n",
    "    column='SoilTemp_'+depth+'cmNW'\n",
    "    thawdate1,thawdate2=GetThawDate(df[column],year)\n",
    "    end=thawdate1+timedelta(days = delay) \n",
    "    start=thawdate1+timedelta(days = -7)\n",
    "    \n",
    "   \n",
    "    \n",
    "    dates=pd.date_range(start=thawdate1, end=thawdate2,freq='D',normalize=bool)\n",
    "       \n",
    "    YEAR=dates.year\n",
    "    x1=dates.strftime(\"%m-%d\")\n",
    "     \n",
    "    ThawingPeriods = {'YEAR':YEAR[:1], 'Length(days)':len(dates), 'Date_Start':start, 'Date_End':end}  \n",
    "    dfThawingPeriods=pd.DataFrame((ThawingPeriods),columns = ['YEAR','Length(days)','Length(days)','Date_Start','Date_End'])\n",
    "    \n",
    "    return x1"
   ]
  },
  {
   "cell_type": "code",
   "execution_count": 4,
   "metadata": {},
   "outputs": [],
   "source": [
    "def PlotThawStartEnd(df,year_str,year_end,depth,delay):\n",
    "    \"\"\"\n",
    "       - objective : \n",
    "       Plot the thawing perio (Start - End) for several years into only one plot\n",
    "       \n",
    "       -Parameters: \n",
    "       df: data in format .pkl. use : df=sl.load('/home/ines/Documents/mientras/data/OJP/OJP_NW_T.pkl')\n",
    "       year_str: in format yyyy.Start year\n",
    "       year_end: in format yyyy.Ending year\n",
    "       depth:in centimetres. Depth for the measurements (exmple:depth='020'). Pick from: 002, 005, 010, 020, 050, 100\n",
    "       delay: (=30) in days. Time to delay to catch the thawing beginnign delay with the depth\n",
    "\n",
    "        -Returns:\n",
    "        Plot in format png.  \n",
    "        \n",
    "   \"\"\"  \n",
    "    \n",
    "    fig = plt.figure()\n",
    "    fig, ax = plt.subplots(figsize=(20, 10))\n",
    "    for i in range(year_str,year_end):\n",
    "        x1=ThawStartEndFun(df,i,depth,delay)\n",
    "        YEAR=np.full(len(x1),i)\n",
    "        ax.plot_date(x1, YEAR, xdate=True, ydate=False, ls='-', ms=0,lw=5)\n",
    "        ax.xaxis.set_tick_params(rotation=90, labelsize=15)\n",
    "        ax.yaxis.set_tick_params(labelsize=15)\n",
    "        ax.grid(True)\n",
    "        plt.xlabel(\"Date(month-day)\",fontsize=18)\n",
    "        plt.ylabel(\"Year\",fontsize=18)\n",
    "    plt.show()\n",
    "    plt.close(fig)\n",
    "    plt.savefig('PlotThawStartEnd.png')\n"
   ]
  },
  {
   "cell_type": "code",
   "execution_count": 5,
   "metadata": {},
   "outputs": [],
   "source": [
    "# Load dataframe of Temperature at different depths:\n",
    "df=sl.load('/home/ines/Documents/mientras/data/OJP/OJP_NW_T.pkl')\n",
    "year=2009\n",
    "column='SoilTemp_'+'020'+'cmNW'\n",
    "thawdate1,thawdate2=GetThawDate(df[column],year)\n",
    "\n",
    "\n"
   ]
  },
  {
   "cell_type": "code",
   "execution_count": 6,
   "metadata": {},
   "outputs": [
    {
     "name": "stderr",
     "output_type": "stream",
     "text": [
      "/usr/lib/python3.7/site-packages/pandas/plotting/_converter.py:129: FutureWarning: Using an implicitly registered datetime converter for a matplotlib plotting method. The converter was registered by pandas on import. Future versions of pandas will require you to explicitly register matplotlib converters.\n",
      "\n",
      "To register the converters:\n",
      "\t>>> from pandas.plotting import register_matplotlib_converters\n",
      "\t>>> register_matplotlib_converters()\n",
      "  warnings.warn(msg, FutureWarning)\n"
     ]
    },
    {
     "data": {
      "text/plain": [
       "<Figure size 432x288 with 0 Axes>"
      ]
     },
     "metadata": {},
     "output_type": "display_data"
    },
    {
     "data": {
      "image/png": "[encoded data removed]",
      "text/plain": [
       "<Figure size 1440x720 with 1 Axes>"
      ]
     },
     "metadata": {
      "needs_background": "light"
     },
     "output_type": "display_data"
    },
    {
     "data": {
      "text/plain": [
       "<Figure size 432x288 with 0 Axes>"
      ]
     },
     "metadata": {},
     "output_type": "display_data"
    }
   ],
   "source": [
    "PlotThawStartEnd(df,2009,2019,depth='020',delay=30)"
   ]
  },
  {
   "cell_type": "code",
   "execution_count": null,
   "metadata": {},
   "outputs": [],
   "source": []
  }
 ],
 "metadata": {
  "kernelspec": {
   "display_name": "Python 3",
   "language": "python",
   "name": "python3"
  },
  "language_info": {
   "codemirror_mode": {
    "name": "ipython",
    "version": 3
   },
   "file_extension": ".py",
   "mimetype": "text/x-python",
   "name": "python",
   "nbconvert_exporter": "python",
   "pygments_lexer": "ipython3",
   "version": "3.7.3"
  }
 },
 "nbformat": 4,
 "nbformat_minor": 2
}
