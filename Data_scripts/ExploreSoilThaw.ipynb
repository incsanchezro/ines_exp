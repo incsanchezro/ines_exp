{
 "cells": [
  {
   "cell_type": "code",
   "execution_count": 1,
   "metadata": {},
   "outputs": [],
   "source": [
    "import numpy as np\n",
    "import matplotlib.pyplot as plt\n",
    "import saveload as sl\n",
    "import pandas as pd\n",
    "from datetime import datetime, timedelta \n"
   ]
  },
  {
   "cell_type": "code",
   "execution_count": 2,
   "metadata": {},
   "outputs": [],
   "source": [
    "def GetThawDate(ts,year):\n",
    "    AnnualTemp=ts[str(year)]\n",
    "    Thawed=AnnualTemp[AnnualTemp>=0]\n",
    "    thawdate=Thawed.index[0]\n",
    "    return thawdate"
   ]
  },
  {
   "cell_type": "code",
   "execution_count": 3,
   "metadata": {},
   "outputs": [],
   "source": [
    "depth='002'\n",
    "#002 005 010 020 050 100\n",
    "column='SoilTemp_'+depth+'cmNW'\n",
    "year=2006\n"
   ]
  },
  {
   "cell_type": "code",
   "execution_count": 4,
   "metadata": {},
   "outputs": [
    {
     "name": "stdout",
     "output_type": "stream",
     "text": [
      "                     SoilTemp_002cmNW  SoilTemp_005cmNW  SoilTemp_010cmNW  \\\n",
      "1997-07-04 17:30:00           15.0110           14.2020           13.6190   \n",
      "1997-07-04 18:00:00           14.7910           14.2130           13.6150   \n",
      "1997-07-04 18:30:00           14.8320           14.3360           13.7370   \n",
      "1997-07-04 19:00:00           14.4550           14.1780           13.6200   \n",
      "1997-07-04 19:30:00           14.4170           14.2590           13.7830   \n",
      "1997-07-04 20:00:00           14.3260           14.1960           13.7810   \n",
      "1997-07-04 20:30:00           14.3530           14.1820           13.7880   \n",
      "1997-07-04 21:00:00           14.1380           14.1220           13.7270   \n",
      "1997-07-04 21:30:00           13.8110           14.0880           13.7460   \n",
      "1997-07-04 22:00:00           13.6150           14.0180           13.7370   \n",
      "1997-07-04 22:30:00           13.4680           13.9080           13.6840   \n",
      "1997-07-04 23:00:00           13.1680           13.7960           13.6290   \n",
      "1997-07-04 23:30:00           12.9010           13.6680           13.5620   \n",
      "1997-07-05 00:00:00           12.6320           13.5250           13.4770   \n",
      "1997-07-05 00:30:00           12.3810           13.3880           13.4050   \n",
      "1997-07-05 01:00:00           12.1420           13.2360           13.3050   \n",
      "1997-07-05 01:30:00           11.9480           13.0830           13.2010   \n",
      "1997-07-05 02:00:00           11.8270           12.9340           13.0930   \n",
      "1997-07-05 02:30:00           11.6350           12.7790           12.9750   \n",
      "1997-07-05 03:00:00           11.4500           12.6520           12.8720   \n",
      "1997-07-05 03:30:00           11.2560           12.5240           12.7770   \n",
      "1997-07-05 04:00:00           11.0050           12.3910           12.6730   \n",
      "1997-07-05 04:30:00           10.7770           12.2500           12.5800   \n",
      "1997-07-05 05:00:00           10.5630           12.0900           12.4620   \n",
      "1997-07-05 05:30:00           10.4670           11.9320           12.3410   \n",
      "1997-07-05 06:00:00           10.3380           11.7960           12.2170   \n",
      "1997-07-05 06:30:00           10.2750           11.6720           12.1010   \n",
      "1997-07-05 07:00:00           10.2910           11.5240           11.9490   \n",
      "1997-07-05 07:30:00           10.4960           11.4630           11.8630   \n",
      "1997-07-05 08:00:00           10.7680           11.4520           11.7830   \n",
      "...                               ...               ...               ...   \n",
      "2019-06-05 03:00:00            7.7530            8.0961            8.1833   \n",
      "2019-06-05 03:30:00            7.7387            8.0300            8.1124   \n",
      "2019-06-05 04:00:00            7.7376            7.9745            8.0493   \n",
      "2019-06-05 04:30:00            7.7317            7.9299            7.9949   \n",
      "2019-06-05 05:00:00            7.6956            7.8897            7.9469   \n",
      "2019-06-05 05:30:00            7.6760            7.8514            7.9043   \n",
      "2019-06-05 06:00:00            7.6914            7.8163            7.8641   \n",
      "2019-06-05 06:30:00            7.7294            7.7904            7.8283   \n",
      "2019-06-05 07:00:00            7.8609            7.7755            7.7988   \n",
      "2019-06-05 07:30:00            8.0446            7.7846            7.7794   \n",
      "2019-06-05 08:00:00            8.6821            7.8492            7.7798   \n",
      "2019-06-05 08:30:00            8.7854            7.9591            7.8170   \n",
      "2019-06-05 09:00:00            8.9059            8.0700            7.8794   \n",
      "2019-06-05 09:30:00            9.7155            8.1989            7.9550   \n",
      "2019-06-05 10:00:00           10.3810            8.4479            8.0701   \n",
      "2019-06-05 10:30:00            9.8747            8.6507            8.2249   \n",
      "2019-06-05 11:00:00           10.4560            8.7649            8.3463   \n",
      "2019-06-05 11:30:00           10.6780            8.9308            8.4449   \n",
      "2019-06-05 12:00:00           10.4310            9.0587            8.5598   \n",
      "2019-06-05 12:30:00           10.8790            9.1718            8.6601   \n",
      "2019-06-05 13:00:00           11.2920            9.3142            8.7724   \n",
      "2019-06-05 13:30:00           11.0000            9.4510            8.8830   \n",
      "2019-06-05 14:00:00           11.1510            9.5354            8.9913   \n",
      "2019-06-05 14:30:00           11.2960            9.5977            9.0832   \n",
      "2019-06-05 15:00:00           10.8900            9.6313            9.1607   \n",
      "2019-06-05 15:30:00           10.7940            9.6513            9.2136   \n",
      "2019-06-05 16:00:00           10.7850            9.6759            9.2452   \n",
      "2019-06-05 16:30:00           10.8540            9.6898            9.2687   \n",
      "2019-06-05 17:00:00           10.8300            9.7046            9.2971   \n",
      "2019-06-05 17:30:00           10.9790            9.7239            9.3233   \n",
      "\n",
      "                     SoilTemp_020cmNW  SoilTemp_050cmNW  SoilTemp_100cmNW  \n",
      "1997-07-04 17:30:00           13.1870           12.5350            8.3250  \n",
      "1997-07-04 18:00:00           13.1220           12.3670            8.2210  \n",
      "1997-07-04 18:30:00           13.2440           12.4610            8.4030  \n",
      "1997-07-04 19:00:00           13.0780           12.2290            8.2070  \n",
      "1997-07-04 19:30:00           13.3140           12.3680            8.4440  \n",
      "1997-07-04 20:00:00           13.3200           12.3490            8.4880  \n",
      "1997-07-04 20:30:00           13.3440           12.3320            8.5280  \n",
      "1997-07-04 21:00:00           13.2910           12.2140            8.4620  \n",
      "1997-07-04 21:30:00           13.3180           12.2290            8.5310  \n",
      "1997-07-04 22:00:00           13.3500           12.2320            8.5880  \n",
      "1997-07-04 22:30:00           13.3340           12.1950            8.5910  \n",
      "1997-07-04 23:00:00           13.3230           12.1680            8.6100  \n",
      "1997-07-04 23:30:00           13.3010           12.1500            8.6410  \n",
      "1997-07-05 00:00:00           13.2650           12.0970            8.6240  \n",
      "1997-07-05 00:30:00           13.2580           12.0950            8.6590  \n",
      "1997-07-05 01:00:00           13.2240           12.0600            8.6660  \n",
      "1997-07-05 01:30:00           13.1770           12.0300            8.6720  \n",
      "1997-07-05 02:00:00           13.1290           12.0110            8.6900  \n",
      "1997-07-05 02:30:00           13.0650           11.9660            8.6780  \n",
      "1997-07-05 03:00:00           13.0030           11.9290            8.6730  \n",
      "1997-07-05 03:30:00           12.9520           11.9150            8.6880  \n",
      "1997-07-05 04:00:00           12.8970           11.8970            8.7020  \n",
      "1997-07-05 04:30:00           12.8460           11.8860            8.7320  \n",
      "1997-07-05 05:00:00           12.7760           11.8570            8.7320  \n",
      "1997-07-05 05:30:00           12.7040           11.8260            8.7250  \n",
      "1997-07-05 06:00:00           12.6250           11.7840            8.7200  \n",
      "1997-07-05 06:30:00           12.5510           11.7540            8.7180  \n",
      "1997-07-05 07:00:00           12.4150           11.6630            8.6520  \n",
      "1997-07-05 07:30:00           12.3460           11.6180            8.6270  \n",
      "1997-07-05 08:00:00           12.2660           11.5710            8.6130  \n",
      "...                               ...               ...               ...  \n",
      "2019-06-05 03:00:00            7.7066            6.1110            4.0272  \n",
      "2019-06-05 03:30:00            7.6694            6.1220            4.0331  \n",
      "2019-06-05 04:00:00            7.6325            6.1323            4.0393  \n",
      "2019-06-05 04:30:00            7.5975            6.1416            4.0455  \n",
      "2019-06-05 05:00:00            7.5632            6.1496            4.0510  \n",
      "2019-06-05 05:30:00            7.5309            6.1558            4.0568  \n",
      "2019-06-05 06:00:00            7.5004            6.1618            4.0627  \n",
      "2019-06-05 06:30:00            7.4713            6.1671            4.0689  \n",
      "2019-06-05 07:00:00            7.4437            6.1707            4.0740  \n",
      "2019-06-05 07:30:00            7.4184            6.1741            4.0794  \n",
      "2019-06-05 08:00:00            7.3947            6.1761            4.0837  \n",
      "2019-06-05 08:30:00            7.3762            6.1791            4.0917  \n",
      "2019-06-05 09:00:00            7.3649            6.1799            4.0981  \n",
      "2019-06-05 09:30:00            7.3612            6.1812            4.1043  \n",
      "2019-06-05 10:00:00            7.3651            6.1819            4.1113  \n",
      "2019-06-05 10:30:00            7.3795            6.1825            4.1170  \n",
      "2019-06-05 11:00:00            7.4064            6.1830            4.1243  \n",
      "2019-06-05 11:30:00            7.4414            6.1823            4.1317  \n",
      "2019-06-05 12:00:00            7.4813            6.1849            4.1387  \n",
      "2019-06-05 12:30:00            7.5228            6.1872            4.1479  \n",
      "2019-06-05 13:00:00            7.5663            6.1842            4.1514  \n",
      "2019-06-05 13:30:00            7.6114            6.1853            4.1570  \n",
      "2019-06-05 14:00:00            7.6616            6.1877            4.1646  \n",
      "2019-06-05 14:30:00            7.7074            6.1857            4.1699  \n",
      "2019-06-05 15:00:00            7.7569            6.1887            4.1756  \n",
      "2019-06-05 15:30:00            7.8084            6.1947            4.1817  \n",
      "2019-06-05 16:00:00            7.8465            6.1924            4.1817  \n",
      "2019-06-05 16:30:00            7.8784            6.1905            4.1807  \n",
      "2019-06-05 17:00:00            7.9161            6.1950            4.1846  \n",
      "2019-06-05 17:30:00            7.9495            6.1996            4.1909  \n",
      "\n",
      "[381898 rows x 6 columns]\n"
     ]
    }
   ],
   "source": [
    "# Load dataframe of Temperature at different depths:\n",
    "df=sl.load('../../data/OJP/OJP_NW_T.pkl')\n",
    "print(df)"
   ]
  },
  {
   "cell_type": "code",
   "execution_count": 5,
   "metadata": {},
   "outputs": [],
   "source": [
    "# Extract a time series from a single column\n",
    "ts=df.iloc[:,0]"
   ]
  },
  {
   "cell_type": "code",
   "execution_count": 6,
   "metadata": {},
   "outputs": [
    {
     "data": {
      "text/plain": [
       "Timestamp('2006-04-05 13:30:00')"
      ]
     },
     "execution_count": 6,
     "metadata": {},
     "output_type": "execute_result"
    }
   ],
   "source": [
    "thawdate=GetThawDate(ts,year)\n",
    "thawdate"
   ]
  },
  {
   "cell_type": "code",
   "execution_count": 13,
   "metadata": {},
   "outputs": [],
   "source": [
    "def TemFun (df,ts,year,column):\n",
    "    thawdate=GetThawDate(ts,year)\n",
    "    end=thawdate+timedelta(days = 30) \n",
    "    start=thawdate+timedelta(days = -7)\n",
    "    Temp=df[start:end]\n",
    "    plt.plot(Temp[column],label='')\n",
    "    plt.xlabel(\"Time (days)\")    \n",
    "    plt.ylabel(\"Depth (meter)\")\n",
    "    #return Temp"
   ]
  },
  {
   "cell_type": "code",
   "execution_count": 14,
   "metadata": {},
   "outputs": [
    {
     "data": {
      "image/png": "[encoded data removed]",
      "text/plain": [
       "<Figure size 432x288 with 1 Axes>"
      ]
     },
     "metadata": {
      "needs_background": "light"
     },
     "output_type": "display_data"
    }
   ],
   "source": [
    "Temp=TemFun(df,ts,year,column)\n",
    "#plt.plot(Temp['SoilTemp_002cmNW'])\n",
    "#plt.plot(Temp)"
   ]
  },
  {
   "cell_type": "code",
   "execution_count": null,
   "metadata": {},
   "outputs": [],
   "source": []
  }
 ],
 "metadata": {
  "kernelspec": {
   "display_name": "Python 3",
   "language": "python",
   "name": "python3"
  },
  "language_info": {
   "codemirror_mode": {
    "name": "ipython",
    "version": 3
   },
   "file_extension": ".py",
   "mimetype": "text/x-python",
   "name": "python",
   "nbconvert_exporter": "python",
   "pygments_lexer": "ipython3",
   "version": "3.7.3"
  }
 },
 "nbformat": 4,
 "nbformat_minor": 2
}
