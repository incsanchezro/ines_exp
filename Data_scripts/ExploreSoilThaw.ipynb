{
 "cells": [
  {
   "cell_type": "markdown",
   "metadata": {},
   "source": [
    "## To do for June 7th:\n",
    "\n",
    "Overall objective is to understand what factors affect soil thawing. We will apply exploratory data analysis (i.e. plotting data creatively). Tasks:\n",
    "\n",
    "Andrew - create a function to plot zero degree isotherms\n",
    "\n",
    "Ines - create a function that plots the time from start to end of thaw for different years\n",
    "\n",
    "Seth - create a plot of snow depth vs time, for the thaw period\n",
    "\n",
    "Sujan - create a plot of water table depth, for the thaw period"
   ]
  },
  {
   "cell_type": "code",
<<<<<<< HEAD
   "execution_count": 1,
=======
   "execution_count": 2,
>>>>>>> sujan
   "metadata": {},
   "outputs": [],
   "source": [
    "#importing libraries\n",
    "import numpy as np\n",
    "import matplotlib.pyplot as plt\n",
    "import saveload as sl\n",
    "import pandas as pd\n",
    "from datetime import datetime, timedelta "
   ]
  },
  {
   "cell_type": "code",
<<<<<<< HEAD
   "execution_count": 2,
=======
   "execution_count": 3,
>>>>>>> sujan
   "metadata": {},
   "outputs": [],
   "source": [
    "def GetThawDate(ts,year):\n",
    "    \"\"\"\n",
    "       - objective : \n",
    "       \n",
    "       Take a temperature for a year with temperature greater than or equal to 0 and  indexed in order\n",
    "       \n",
    "       \n",
    "       -Parameters: \n",
    "       The parameter that is used here are the year (year) of the time series data and the time series (ts) of\n",
    "\n",
    "       -Returns:\n",
    "        thawdate(yyyy:mm:dd  hr:mm:ss) is in the form of the year that is returned\n",
    "   \"\"\"\n",
    "    AnnualTemp=ts[str(year)]\n",
    "    Thawed=AnnualTemp[AnnualTemp>=0]\n",
    "    thawdate=Thawed.index[0]\n",
    "    return thawdate"
   ]
  },
  {
   "cell_type": "code",
<<<<<<< HEAD
   "execution_count": 3,
=======
   "execution_count": 38,
>>>>>>> sujan
   "metadata": {},
   "outputs": [],
   "source": [
    "def TemFun(df,year,depth,delay=30):\n",
    "    \"\"\"\n",
    "        -Objective: \n",
    "        Plot for temperature vs time. This plot uses a time window based \n",
    "        On the end and start date. The dates end and start use the thawdate date. The thawdate date represents the time\n",
    "        in which the thawing process starts\n",
    "        -Parameters:\n",
    "        df: Dataframe with the WISKI data information\n",
    "        year: year for which do you want to create the plot\n",
    "        depth: in centimetres. Depth for the measurements. Pick from: 002, 005, 010, 020, 050, 100\n",
    "        delay: (=30) in days. Time to delay to catch the thawing beginnign delay with the depth\n",
    "\n",
    "        -Returns:\n",
    "        A plot in format .png from the temperature vs time. One single line for the specified year.\n",
    "        \"\"\"\n",
    "    column='SoilTemp_'+depth+'cmNW'\n",
    "    thawdate=GetThawDate(df[column],year)\n",
    "    end=thawdate+timedelta(days = delay) \n",
    "    start=thawdate+timedelta(days = -7)\n",
    "    print(start)\n",
    "    Temp=df[start:end]\n",
    "    print(end)\n",
    "    plt.plot(Temp[column],label='')\n",
    "    plt.xlabel(\"Time (days)\")    \n",
    "    plt.ylabel(\"Depth (meter)\")\n",
    "    "
   ]
  },
  {
   "cell_type": "code",
<<<<<<< HEAD
   "execution_count": 4,
   "metadata": {},
   "outputs": [],
   "source": [
    "def ZeroDegIso(df,z,start,end,include_cbar=True):\n",
    "    \"\"\"\n",
    "    Objective: produce a contour plot of the zero degree soil temperature isotherm\n",
    "    \n",
    "    Parameters: df = dataframe containing time series temperature data, with time index\n",
    "                z = array of depths\n",
    "                start = start date\n",
    "                end = end date\n",
    "                include_cbar (optional) = set to true to add a colorbar for freezing temperatures\n",
    "                \n",
    "    Returns: no output, just a plot on the current axes\n",
    "                \n",
    "    \"\"\"\n",
    "\n",
    "    # Get the data:\n",
    "    t=df[start:end].index\n",
    "    Temp=df[start:end].values\n",
    "    \n",
    "    # Add contour plot:   \n",
    "    C=plt.contourf(t,z,Temp.T,np.arange(-10,0.1,1),cmap=plt.cm.Blues)\n",
    "    plt.contourf(t,z,Temp.T,np.arange(0,30,1),cmap=plt.cm.Reds)\n",
    "    plt.contour(t,z,Temp.T,np.arange(0,1),colors='black')\n",
    "    plt.ylim(z[-1],0)\n",
    "    plt.xlim(start,end)\n",
    "    \n",
    "    if include_cbar:\n",
    "        ax=plt.gca()\n",
    "        pos=ax.get_position().bounds\n",
    "        pos=[0.1,0.23,0.8,0.7]\n",
    "        ax.set_position(pos)\n",
    "        poscb=[0.1,0.04,0.8,0.04]\n",
    "        cnew=plt.axes(poscb)\n",
    "        plt.colorbar(C,orientation=\"horizontal\",cax=cnew)\n",
    "        plt.title(r'Temperature $^\\circ$C',fontsize=12)"
   ]
  },
  {
   "cell_type": "code",
   "execution_count": 6,
=======
   "execution_count": null,
>>>>>>> sujan
   "metadata": {},
   "outputs": [],
   "source": [
    "def Snow depth(df1,year,depth,delay=30):\n",
    "    \"\"\"\n",
    "        -Objective: \n",
    "        Plot for temperature vs time. This plot uses a time window based \n",
    "        On the end and start date. The dates end and start use the thawdate date. The thawdate date represents the time\n",
    "        in which the thawing process starts\n",
    "        -Parameters:\n",
    "        df: Dataframe with the WISKI data information\n",
    "        year: year for which do you want to create the plot\n",
    "        depth: in centimetres. Depth for the measurements. Pick from: 002, 005, 010, 020, 050, 100\n",
    "        delay: (=30) in days. Time to delay to catch the thawing beginnign delay with the depth\n",
    "\n",
    "        -Returns:\n",
    "        A plot in format .png from the temperature vs time. One single line for the specified year.\n",
    "        \"\"\"\n",
    "    column='SoilDepth_At'+location\n",
    "    thawdate=GetThawDate(df[column],year)\n",
    "    end=thawdate+timedelta(days = delay) \n",
    "    start=thawdate+timedelta(days = -7)\n",
    "    Temp=df[start:end]\n",
    "    plt.plot(Temp[column],label='')\n",
    "    plt.xlabel(\"Time (days)\")    \n",
    "    plt.ylabel(\"Depth (meter)\")\n",
    "    "
   ]
  },
  {
   "cell_type": "code",
<<<<<<< HEAD
   "execution_count": 7,
=======
   "execution_count": 55,
>>>>>>> sujan
   "metadata": {},
   "outputs": [
    {
     "name": "stderr",
     "output_type": "stream",
     "text": [
      "/Users/ani378/anaconda3/lib/python3.7/site-packages/pandas/plotting/_converter.py:129: FutureWarning: Using an implicitly registered datetime converter for a matplotlib plotting method. The converter was registered by pandas on import. Future versions of pandas will require you to explicitly register matplotlib converters.\n",
      "\n",
      "To register the converters:\n",
      "\t>>> from pandas.plotting import register_matplotlib_converters\n",
      "\t>>> register_matplotlib_converters()\n",
      "  warnings.warn(msg, FutureWarning)\n"
     ]
    },
    {
     "data": {
<<<<<<< HEAD
      "image/png": "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\n",
=======
      "text/plain": [
       "<matplotlib.axes._subplots.AxesSubplot at 0x12d32e160>"
      ]
     },
     "execution_count": 55,
     "metadata": {},
     "output_type": "execute_result"
    },
    {
     "data": {
      "image/png": "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\n",
>>>>>>> sujan
      "text/plain": [
       "<Figure size 432x288 with 2 Axes>"
      ]
     },
     "metadata": {
      "needs_background": "light"
     },
     "output_type": "display_data"
    }
   ],
   "source": [
<<<<<<< HEAD
    "z=np.array([0.02,0.05,0.1,0.2,0.5,1.0])\n",
    "start='2005-11-01'\n",
    "end='2006-06-01'\n",
    "ZeroDegIso(df,z,start,end)"
=======
    "# Load dataframe of Temperature at different depths:\n",
    "df=sl.load('../../data/OJP/OJP_NW_T.pkl')\n",
    "df1=sl.load('../../data/OJP/OJP_Snow.pkl')\n",
    "#print (df)\n",
    "#print (df1)\n",
    "y= df1.mean(axis=1)\n",
    "y.plot()\n"
>>>>>>> sujan
   ]
  },
  {
   "cell_type": "code",
<<<<<<< HEAD
   "execution_count": null,
=======
   "execution_count": 50,
   "metadata": {},
   "outputs": [
    {
     "name": "stdout",
     "output_type": "stream",
     "text": [
      "SnowDepth_AtGeonor\n",
      "SnowDepth_AtSnowHarp\n",
      "SnowDepth_BC\n"
     ]
    }
   ],
   "source": [
    "for c in df1.columns: print(c)"
   ]
  },
  {
   "cell_type": "code",
   "execution_count": 40,
>>>>>>> sujan
   "metadata": {},
   "outputs": [],
   "source": [
    "# Set the depth: 002 005 010 020 050 100\n",
    "#TemFun(df,2006,'020')\n"
   ]
  },
  {
   "cell_type": "code",
<<<<<<< HEAD
   "execution_count": null,
   "metadata": {},
   "outputs": [],
=======
   "execution_count": 41,
   "metadata": {},
   "outputs": [
    {
     "name": "stdout",
     "output_type": "stream",
     "text": [
      "2008-04-06 05:00:00\n",
      "2008-06-02 05:00:00\n"
     ]
    },
    {
     "data": {
      "image/png": "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\n",
      "text/plain": [
       "<Figure size 432x288 with 1 Axes>"
      ]
     },
     "metadata": {
      "needs_background": "light"
     },
     "output_type": "display_data"
    }
   ],
>>>>>>> sujan
   "source": [
    "TemFun(df,2008,'020',delay=50)"
   ]
  },
  {
   "cell_type": "code",
   "execution_count": null,
   "metadata": {},
   "outputs": [],
   "source": [
    "plt.axes()\n",
    "ax=plt.gca()\n",
    "pos=ax.get_position().bounds\n",
    "pos=[pos[0],0.8,pos[2],pos[3]]\n",
    "ax.set_position(pos)"
   ]
  },
  {
   "cell_type": "code",
   "execution_count": null,
   "metadata": {},
   "outputs": [],
   "source": []
  }
 ],
 "metadata": {
  "kernelspec": {
   "display_name": "Python 3",
   "language": "python",
   "name": "python3"
  },
  "language_info": {
   "codemirror_mode": {
    "name": "ipython",
    "version": 3
   },
   "file_extension": ".py",
   "mimetype": "text/x-python",
   "name": "python",
   "nbconvert_exporter": "python",
   "pygments_lexer": "ipython3",
   "version": "3.7.3"
  }
 },
 "nbformat": 4,
 "nbformat_minor": 2
}
