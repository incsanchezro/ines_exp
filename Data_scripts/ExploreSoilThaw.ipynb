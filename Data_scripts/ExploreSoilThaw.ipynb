{
 "cells": [
  {
   "cell_type": "markdown",
   "metadata": {},
   "source": [
    "## To do for June 7th:\n",
    "\n",
    "Overall objective is to understand what factors affect soil thawing. We will apply exploratory data analysis (i.e. plotting data creatively). Tasks:\n",
    "\n",
    "Andrew - create a function to plot zero degree isotherms\n",
    "\n",
    "Ines - create a function that plots the time from start to end of thaw for different years\n",
    "\n",
    "Seth - create a plot of snow depth vs time, for the thaw period\n",
    "\n",
    "Sujan - create a plot of water table depth, for the thaw period"
   ]
  },
  {
   "cell_type": "code",
   "execution_count": 1,
   "metadata": {},
   "outputs": [],
   "source": [
    "#importing libraries\n",
    "import numpy as np\n",
    "import matplotlib.pyplot as plt\n",
    "import saveload as sl\n",
    "import pandas as pd\n",
    "from datetime import datetime, timedelta "
   ]
  },
  {
   "cell_type": "code",
   "execution_count": 2,
   "metadata": {},
   "outputs": [],
   "source": [
    "def GetThawDate(ts,year):\n",
    "    \"\"\"\n",
    "       - objective : \n",
    "       \n",
    "       Take a temperature for a year with temperature greater than or equal to 0 and  indexed in order\n",
    "       \n",
    "       \n",
    "       -Parameters: \n",
    "       The parameter that is used here are the year (year) of the time series data and the time series (ts) of\n",
    "\n",
    "       -Returns:\n",
    "        thawdate(yyyy:mm:dd  hr:mm:ss) is in the form of the year that is returned\n",
    "   \"\"\"\n",
    "    AnnualTemp=ts[str(year)]\n",
    "    Thawed=AnnualTemp[AnnualTemp>=0]\n",
    "    thawdate=Thawed.index[0]\n",
    "    return thawdate"
   ]
  },
  {
   "cell_type": "code",
   "execution_count": 3,
   "metadata": {},
   "outputs": [],
   "source": [
    "def TemFun(df,year,depth,delay=30):\n",
    "    \"\"\"\n",
    "        -Objective: \n",
    "        Plot for temperature vs time. This plot uses a time window based \n",
    "        On the end and start date. The dates end and start use the thawdate date. The thawdate date represents the time\n",
    "        in which the thawing process starts\n",
    "        -Parameters:\n",
    "        df: Dataframe with the WISKI data information\n",
    "        year: year for which do you want to create the plot\n",
    "        depth: in centimetres. Depth for the measurements. Pick from: 002, 005, 010, 020, 050, 100\n",
    "        delay: (=30) in days. Time to delay to catch the thawing beginnign delay with the depth\n",
    "\n",
    "        -Returns:\n",
    "        A plot in format .png from the temperature vs time. One single line for the specified year.\n",
    "        \"\"\"\n",
    "    column='SoilTemp_'+depth+'cmNW'\n",
    "    thawdate=GetThawDate(df[column],year)\n",
    "    end=thawdate+timedelta(days = delay) \n",
    "    start=thawdate+timedelta(days = -7)\n",
    "    Temp=df[start:end]\n",
    "    plt.plot(Temp[column],label='')\n",
    "    plt.xlabel(\"Time (days)\")    \n",
    "    plt.ylabel(\"Depth (meter)\")\n",
    "    "
   ]
  },
  {
   "cell_type": "code",
   "execution_count": 4,
   "metadata": {},
   "outputs": [],
   "source": [
    "def ZeroDegIso(df,z,start,end,include_cbar=True):\n",
    "    \"\"\"\n",
    "    Objective: produce a contour plot of the zero degree soil temperature isotherm\n",
    "    \n",
    "    Parameters: df = dataframe containing time series temperature data, with time index\n",
    "                z = array of depths\n",
    "                start = start date\n",
    "                end = end date\n",
    "                include_cbar (optional) = set to true to add a colorbar for freezing temperatures\n",
    "                \n",
    "    Returns: no output, just a plot on the current axes\n",
    "                \n",
    "    \"\"\"\n",
    "\n",
    "    # Get the data:\n",
    "    t=df[start:end].index\n",
    "    Temp=df[start:end].values\n",
    "    \n",
    "    # Add contour plot:   \n",
    "    C=plt.contourf(t,z,Temp.T,np.arange(-10,0.1,1),cmap=plt.cm.Blues)\n",
    "    plt.contourf(t,z,Temp.T,np.arange(0,30,1),cmap=plt.cm.Reds)\n",
    "    plt.contour(t,z,Temp.T,np.arange(0,1),colors='black')\n",
    "    plt.ylim(z[-1],0)\n",
    "    plt.xlim(start,end)\n",
    "    \n",
    "    if include_cbar:\n",
    "        ax=plt.gca()\n",
    "        pos=ax.get_position().bounds\n",
    "        pos=[0.1,0.23,0.8,0.7]\n",
    "        ax.set_position(pos)\n",
    "        poscb=[0.1,0.04,0.8,0.04]\n",
    "        cnew=plt.axes(poscb)\n",
    "        plt.colorbar(C,orientation=\"horizontal\",cax=cnew)\n",
    "        plt.title(r'Temperature $^\\circ$C',fontsize=12)"
   ]
  },
  {
   "cell_type": "code",
   "execution_count": 6,
   "metadata": {},
   "outputs": [],
   "source": [
    "# Load dataframe of Temperature at different depths:\n",
    "df=sl.load('../../data/OJP/OJP_NW_T.pkl')"
   ]
  },
  {
   "cell_type": "code",
   "execution_count": 7,
   "metadata": {},
   "outputs": [
    {
     "name": "stderr",
     "output_type": "stream",
     "text": [
      "/Users/ani378/anaconda3/lib/python3.7/site-packages/pandas/plotting/_converter.py:129: FutureWarning: Using an implicitly registered datetime converter for a matplotlib plotting method. The converter was registered by pandas on import. Future versions of pandas will require you to explicitly register matplotlib converters.\n",
      "\n",
      "To register the converters:\n",
      "\t>>> from pandas.plotting import register_matplotlib_converters\n",
      "\t>>> register_matplotlib_converters()\n",
      "  warnings.warn(msg, FutureWarning)\n"
     ]
    },
    {
     "data": {
      "image/png": "[encoded data removed]",
      "text/plain": [
       "<Figure size 432x288 with 2 Axes>"
      ]
     },
     "metadata": {
      "needs_background": "light"
     },
     "output_type": "display_data"
    }
   ],
   "source": [
    "z=np.array([0.02,0.05,0.1,0.2,0.5,1.0])\n",
    "start='2005-11-01'\n",
    "end='2006-06-01'\n",
    "ZeroDegIso(df,z,start,end)"
   ]
  },
  {
   "cell_type": "code",
   "execution_count": null,
   "metadata": {},
   "outputs": [],
   "source": [
    "# Set the depth: 002 005 010 020 050 100\n",
    "TemFun(df,2006,'020')"
   ]
  },
  {
   "cell_type": "code",
   "execution_count": null,
   "metadata": {},
   "outputs": [],
   "source": [
    "TemFun(df,2008,'020',delay=50)"
   ]
  },
  {
   "cell_type": "code",
   "execution_count": null,
   "metadata": {},
   "outputs": [],
   "source": [
    "plt.axes()\n",
    "ax=plt.gca()\n",
    "pos=ax.get_position().bounds\n",
    "pos=[pos[0],0.8,pos[2],pos[3]]\n",
    "ax.set_position(pos)"
   ]
  },
  {
   "cell_type": "code",
   "execution_count": null,
   "metadata": {},
   "outputs": [],
   "source": []
  }
 ],
 "metadata": {
  "kernelspec": {
   "display_name": "Python 3",
   "language": "python",
   "name": "python3"
  },
  "language_info": {
   "codemirror_mode": {
    "name": "ipython",
    "version": 3
   },
   "file_extension": ".py",
   "mimetype": "text/x-python",
   "name": "python",
   "nbconvert_exporter": "python",
   "pygments_lexer": "ipython3",
   "version": "3.7.3"
  }
 },
 "nbformat": 4,
 "nbformat_minor": 2
}
