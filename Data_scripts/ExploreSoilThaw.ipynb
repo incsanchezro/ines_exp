{
 "cells": [
  {
   "cell_type": "code",
   "execution_count": null,
   "metadata": {},
   "outputs": [],
   "source": [
    "import numpy as np\n",
    "import matplotlib.pyplot as plt\n",
    "import saveload as sl\n",
    "import pandas as pd\n",
    "from datetime import datetime, timedelta "
   ]
  },
  {
   "cell_type": "code",
   "execution_count": null,
   "metadata": {},
   "outputs": [],
   "source": [
    "def GetThawDate(ts,year):\n",
    "    AnnualTemp=ts[str(year)]\n",
    "    Thawed=AnnualTemp[AnnualTemp>=0]\n",
    "    thawdate=Thawed.index[0]\n",
    "    return thawdate"
   ]
  },
  {
   "cell_type": "code",
   "execution_count": null,
   "metadata": {},
   "outputs": [],
   "source": [
    "def TemFun(df,year,depth,delay=30):\n",
    "    column='SoilTemp_'+depth+'cmNW'\n",
    "    thawdate=GetThawDate(df[column],year)\n",
    "    end=thawdate+timedelta(days = delay) \n",
    "    start=thawdate+timedelta(days = -7)\n",
    "    Temp=df[start:end]\n",
    "    plt.plot(Temp[column],label='')\n",
    "    plt.xlabel(\"Time (days)\")    \n",
    "    plt.ylabel(\"Depth (meter)\")\n",
    "    #return Temp"
   ]
  },
  {
   "cell_type": "code",
   "execution_count": null,
   "metadata": {},
   "outputs": [],
   "source": [
    "# Load dataframe of Temperature at different depths:\n",
    "df=sl.load('../../data/OJP/OJP_NW_T.pkl')"
   ]
  },
  {
   "cell_type": "code",
   "execution_count": null,
   "metadata": {},
   "outputs": [],
   "source": [
    "# Set the depth: 002 005 010 020 050 100\n",
    "TemFun(df,2006,'020')"
   ]
  },
  {
   "cell_type": "code",
   "execution_count": null,
   "metadata": {},
   "outputs": [],
   "source": [
    "TemFun(df,2008,'020',delay=50)"
   ]
  }
 ],
 "metadata": {
  "kernelspec": {
   "display_name": "Python 3",
   "language": "python",
   "name": "python3"
  },
  "language_info": {
   "codemirror_mode": {
    "name": "ipython",
    "version": 3
   },
   "file_extension": ".py",
   "mimetype": "text/x-python",
   "name": "python",
   "nbconvert_exporter": "python",
   "pygments_lexer": "ipython3",
   "version": "3.7.3"
  }
 },
 "nbformat": 4,
 "nbformat_minor": 2
}
